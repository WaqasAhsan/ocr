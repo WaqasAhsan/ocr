{
 "cells": [
  {
   "cell_type": "markdown",
   "id": "a67b6efd-d186-4ed3-8cf0-4c0224fabc4a",
   "metadata": {},
   "source": [
    "Step 1 - Install Tesseract:\n",
    " % brew install Tesseract\n",
    "\n",
    "Step 2 - Install pytesseract\n",
    "Python-tesseract is an optical character recognition (OCR) tool for python. \n",
    " % pip install pytesseract \n",
    "\n",
    "Step 1 - You can varify whether tesseract is properly installed or not by using version command\n",
    " % tesseract --version\n",
    "tesseract 5.3.2\n",
    "\n",
    "Step 3 - To check where the tesseract is installed, use this command. \n",
    " % where tesseract    \n",
    "/usr/local/bin/tesseract\n",
    "\n",
    "keep this location safe. You can find file named \"tesseract\" in this folder. Right click on it and save its location for future reference.\n",
    "\n",
    "Step 3 - Install numpy\n",
    " % pip3 install numpy\n",
    "\n",
    "Step 3 - Install numpy\n",
    " % pip3 install openai\n",
    " \n",
    "Step - Install open cv\n",
    " % pip3 install opencv-python\n",
    " Successfully installed opencv-python-4.8.0.76\n",
    " \n",
    " # Trying another OCR method\n",
    "Step - Install easyocr\n",
    "% pip install easyocr   \n"
   ]
  },
  {
   "cell_type": "code",
   "execution_count": 21,
   "id": "d3daf4b8-c74a-4ce6-b940-e9c3c7f708ee",
   "metadata": {
    "tags": []
   },
   "outputs": [],
   "source": [
    "from PIL import Image\n",
    "import pytesseract\n",
    "import numpy as np\n",
    "import openai\n",
    "import os\n",
    "import cv2\n",
    "import easyocr"
   ]
  },
  {
   "cell_type": "code",
   "execution_count": 43,
   "id": "a80a2bbe-86c8-4e3e-bf37-293b05698e39",
   "metadata": {
    "tags": []
   },
   "outputs": [
    {
     "name": "stdout",
     "output_type": "stream",
     "text": [
      "Tesseract Result: \n",
      " (b) What are the circumstances where revenue expenditure\n",
      "becomes capital expenditure? 5\n",
      "\n",
      "Ans: Revenue expenditure is treated as capital expenditure in the\n",
      "following cases:\n",
      "\n",
      "1. Raw material consumed during a period: Raw materials\n",
      "consumed in the production of goods are treated as revenue\n",
      "expenditure but if such raw materials are consumed in the\n",
      "construction of fixed assets are treated as capital expenditure.\n",
      "\n",
      "2. Wages: Wages paid to labourers which are engaged in the\n",
      "production of goods are treated as revenue expenditure but if\n",
      "wages paid to workers who are engaged in the construction of\n",
      "fixed assets, then such wages are treated as capital\n",
      "expenditure.\n",
      "\n",
      "3. Repairs: Repairing expenses are of nominal nature and debited\n",
      "to profit and loss account. But repairing expenses incurred on\n",
      "old or second hand assets which increase the capacity or life of\n",
      "the assets are treated as revenue expenditure.\n",
      "\n",
      "4. Legal charges: Legal charges are normally debited to profit and\n",
      "loss account because it is nominal in nature. But if legal\n",
      "expenses are incurred in acquisition of fixed assets then such\n",
      "expenses are treated as capital expenditure and added with\n",
      "the cost of asset.\n",
      "\n",
      "5. Brokerage and stamp duty: Brokerage and stamp duty are\n",
      "normally debited to profit and loss account because it is\n",
      "nominal in nature. But if Brokerage and stamp duty expenses\n",
      "are incurred in acquisition of fixed assets then such expenses\n",
      "are treated as capital expenditure and added with the cost of\n",
      "asset.\n",
      "\n"
     ]
    }
   ],
   "source": [
    "# path to tesseract file\n",
    "pytesseract.pytesseract.tesseract_cmd = r'/usr/local/Cellar/tesseract/5.3.2_1/bin/tesseract'\n",
    "# Please add your scanned file image below\n",
    "filePath = '/Users/mac/Downloads/testimage.png'\n",
    "\n",
    "scanned_img = Image.open(filePath)\n",
    "scanned_text = pytesseract.image_to_string(scanned_img)\n",
    "# Batch processing with a single file containing the list of multiple image file paths\n",
    "# print(pytesseract.image_to_string('images.txt'))\n",
    "\n",
    "\n",
    "# # for testing purpose\n",
    "# reader = easyocr.Reader(['en'])\n",
    "# result = reader.readtext(filePath, detail=0)\n",
    "# print(\"EasyOCR Result: \\n\",result)\n",
    "\n",
    "if len(scanned_text) == 0:\n",
    "    print(\"Unable to read text from image\")\n",
    "else:\n",
    "    print(\"Tesseract Result: \\n\",scanned_text)"
   ]
  },
  {
   "cell_type": "code",
   "execution_count": 5,
   "id": "93621f8e-6d28-45e4-a222-cbf6e0a33279",
   "metadata": {
    "tags": []
   },
   "outputs": [],
   "source": [
    "prompt = f\"\"\"Your task is to determine if the student's solution \\\n",
    "is correct or not. \\\n",
    "\n",
    "If its more than 50% correct then classify it as correct. \\\n",
    "\n",
    "To solve the problem do the following:\\\n",
    "\n",
    "- First, work out your own solution to the problem.\\\n",
    "\n",
    "- Then compare your solution to the student's solution \\\n",
    "and evaluate if the student's solution is correct or not.\\\n",
    "\n",
    "Don't decide if the student's solution is correct until you have done the problem yourself.\\\n",
    "\n",
    "Use the following format:\\\n",
    "\n",
    "Question:\\n\n",
    "---\\n\n",
    "put the question here\\n\n",
    "---\\n\n",
    "Student's solution:\\n\n",
    "---\\n\n",
    "Write Student's solution here\\n\n",
    "---\\n\n",
    "Actual solution:\\n\n",
    "---\\n\n",
    "write steps to work out the solution and your solution here. If there are no steps then you can just write your solution here \\n\n",
    "---\\n\n",
    "Is the student's solution the same as actual solution you just calculated? \\n\n",
    "---\\n\n",
    "yes or no\\n\n",
    "---\\n\n",
    "Student grade:\\n\n",
    "---\\n\n",
    "correct or incorrect\\n\n",
    "---\\n\n",
    "\n",
    "Solution: ```{scanned_text}```\n",
    "\"\"\"\n",
    "\n",
    "\n",
    "# print(prompt)"
   ]
  },
  {
   "cell_type": "code",
   "execution_count": 2,
   "id": "db169f9b-846c-43c0-b005-e85e5f0fab29",
   "metadata": {
    "tags": []
   },
   "outputs": [],
   "source": [
    "# please add your api key below\n",
    "openai.api_key = \"<Plaese add your api key here>\""
   ]
  },
  {
   "cell_type": "code",
   "execution_count": 3,
   "id": "942534de-5c34-473a-b878-2dfa94c9a1ba",
   "metadata": {
    "tags": []
   },
   "outputs": [],
   "source": [
    "\n",
    "def get_completion(prompt, model=\"gpt-3.5-turbo\"):\n",
    "    messages = [{\"role\": \"user\", \"content\": prompt}]\n",
    "    response = openai.ChatCompletion.create(\n",
    "        model=model,\n",
    "        messages=messages,\n",
    "        temperature=0.9,\n",
    "    )\n",
    "    return response.choices[0].message[\"content\"]\n"
   ]
  },
  {
   "cell_type": "code",
   "execution_count": null,
   "id": "f84ed056-0fcd-4ebf-b4e4-14632ca99e56",
   "metadata": {
    "tags": []
   },
   "outputs": [],
   "source": [
    "response = get_completion(prompt)\n",
    "print(response)"
   ]
  },
  {
   "cell_type": "markdown",
   "id": "d085e803-19d6-4148-af5b-056500775e9d",
   "metadata": {},
   "source": [
    "# Resources:\n",
    "https://pypi.org/project/pytesseract/\n",
    "\n",
    "# Other useful commands\n",
    "\n",
    "# Batch processing with a single file containing the list of multiple image file paths\n",
    "print(pytesseract.image_to_string('images.txt'))\n",
    "\n",
    "# Timeout/terminate the tesseract job after a period of time\n",
    "try:\n",
    "    print(pytesseract.image_to_string('test.jpg', timeout=2)) # Timeout after 2 seconds\n",
    "    print(pytesseract.image_to_string('test.jpg', timeout=0.5)) # Timeout after half a second\n",
    "except RuntimeError as timeout_error:\n",
    "    # Tesseract processing is terminated\n",
    "    pass\n",
    "    \n",
    "    \n"
   ]
  },
  {
   "cell_type": "markdown",
   "id": "0094ebda-ba14-4f78-b32a-f977df5aaa32",
   "metadata": {},
   "source": [
    "# Resource:\n",
    "https://nanonets.com/blog/ocr-with-tesseract/\n",
    "\n",
    "# Preprocessing for Tesseract\n",
    "To avoid all the ways your tesseract output accuracy can drop, you need to make sure the image is appropriately pre-processed.\n",
    "\n",
    "This includes rescaling, binarization, noise removal, deskewing, etc.\n",
    "\n",
    "To preprocess image for OCR, use any of the following python functions.\n",
    "\n",
    "import cv2\n",
    "import numpy as np\n",
    "\n",
    "img = cv2.imread('image.jpg')\n",
    "\n",
    "# get grayscale image\n",
    "def get_grayscale(image):\n",
    "    return cv2.cvtColor(image, cv2.COLOR_BGR2GRAY)\n",
    "\n",
    "# noise removal\n",
    "def remove_noise(image):\n",
    "    return cv2.medianBlur(image,5)\n",
    " \n",
    "# thresholding\n",
    "def thresholding(image):\n",
    "    return cv2.threshold(image, 0, 255, cv2.THRESH_BINARY + cv2.THRESH_OTSU)[1]\n",
    "\n",
    "# dilation\n",
    "def dilate(image):\n",
    "    kernel = np.ones((5,5),np.uint8)\n",
    "    return cv2.dilate(image, kernel, iterations = 1)\n",
    "    \n",
    "# erosion\n",
    "def erode(image):\n",
    "    kernel = np.ones((5,5),np.uint8)\n",
    "    return cv2.erode(image, kernel, iterations = 1)\n",
    "\n",
    "# opening - erosion followed by dilation\n",
    "def opening(image):\n",
    "    kernel = np.ones((5,5),np.uint8)\n",
    "    return cv2.morphologyEx(image, cv2.MORPH_OPEN, kernel)\n",
    "\n",
    "# canny edge detection\n",
    "def canny(image):\n",
    "    return cv2.Canny(image, 100, 200)\n",
    "\n",
    "# skew correction\n",
    "def deskew(image):\n",
    "    coords = np.column_stack(np.where(image > 0))\n",
    "    angle = cv2.minAreaRect(coords)[-1]\n",
    "     if angle < -45:\n",
    "        angle = -(90 + angle)\n",
    "    else:\n",
    "        angle = -angle\n",
    "    (h, w) = image.shape[:2]\n",
    "    center = (w // 2, h // 2)\n",
    "    M = cv2.getRotationMatrix2D(center, angle, 1.0)\n",
    "    rotated = cv2.warpAffine(image, M, (w, h), flags=cv2.INTER_CUBIC, borderMode=cv2.BORDER_REPLICATE)\n",
    "    return rotated\n",
    "\n",
    "# template matching\n",
    "def match_template(image, template):\n",
    "    return cv2.matchTemplate(image, template, cv2.TM_CCOEFF_NORMED)\n",
    " \n",
    " \n",
    "# examples\n",
    "    \n",
    "image = cv2.imread('aurebesh.jpg')\n",
    "gray = get_grayscale(image)\n",
    "thresh = thresholding(gray)\n",
    "opening = opening(gray)\n",
    "canny = canny(gray)"
   ]
  },
  {
   "cell_type": "markdown",
   "id": "6088e6d6-17ab-4f09-9934-14fae73b396c",
   "metadata": {},
   "source": [
    "# Limitations:\n",
    "It is not capable of recognizing handwriting.\n"
   ]
  },
  {
   "cell_type": "markdown",
   "id": "aa7db8c3-9dd8-4380-a206-20857feca392",
   "metadata": {},
   "source": [
    "https://pspdfkit.com/blog/2023/how-to-use-tesseract-ocr-in-python/\n"
   ]
  }
 ],
 "metadata": {
  "kernelspec": {
   "display_name": "Python 3 (ipykernel)",
   "language": "python",
   "name": "python3"
  },
  "language_info": {
   "codemirror_mode": {
    "name": "ipython",
    "version": 3
   },
   "file_extension": ".py",
   "mimetype": "text/x-python",
   "name": "python",
   "nbconvert_exporter": "python",
   "pygments_lexer": "ipython3",
   "version": "3.11.5"
  }
 },
 "nbformat": 4,
 "nbformat_minor": 5
}
